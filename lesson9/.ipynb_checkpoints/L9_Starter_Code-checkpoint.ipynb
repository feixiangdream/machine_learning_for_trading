{
 "cells": [
  {
   "cell_type": "code",
   "execution_count": 9,
   "metadata": {},
   "outputs": [
    {
     "name": "stdout",
     "output_type": "stream",
     "text": [
      "X = [ 2.], Y = [ 0.75]\n",
      "X = [ 2.], Y = [ 0.75]\n",
      "X = [ 2.00000001], Y = [ 0.75000001]\n",
      "X = [ 0.99999999], Y = [ 0.75000001]\n",
      "X = [ 1.5], Y = [ 0.5]\n",
      "X = [ 1.5], Y = [ 0.5]\n",
      "X = [ 1.50000001], Y = [ 0.5]\n",
      "Optimization terminated successfully.    (Exit mode 0)\n",
      "            Current function value: 0.5\n",
      "            Iterations: 2\n",
      "            Function evaluations: 7\n",
      "            Gradient evaluations: 2\n",
      "Minima found at:\n",
      "X = [ 1.5], Y = 0.5\n",
      "X = [ 0.5  0.6  0.7  0.8  0.9  1.   1.1  1.2  1.3  1.4  1.5  1.6  1.7  1.8  1.9\n",
      "  2.   2.1  2.2  2.3  2.4  2.5], Y = [ 1.5   1.31  1.14  0.99  0.86  0.75  0.66  0.59  0.54  0.51  0.5   0.51\n",
      "  0.54  0.59  0.66  0.75  0.86  0.99  1.14  1.31  1.5 ]\n"
     ]
    },
    {
     "ename": "NameError",
     "evalue": "name 'min_result' is not defined",
     "output_type": "error",
     "traceback": [
      "\u001b[0;31m---------------------------------------------------------------------------\u001b[0m",
      "\u001b[0;31mNameError\u001b[0m                                 Traceback (most recent call last)",
      "\u001b[0;32m<ipython-input-9-aaad5483acbb>\u001b[0m in \u001b[0;36m<module>\u001b[0;34m()\u001b[0m\n\u001b[1;32m     23\u001b[0m     \u001b[0mYplot\u001b[0m \u001b[1;33m=\u001b[0m \u001b[0mf\u001b[0m\u001b[1;33m(\u001b[0m\u001b[0mXplot\u001b[0m\u001b[1;33m)\u001b[0m\u001b[1;33m\u001b[0m\u001b[0m\n\u001b[1;32m     24\u001b[0m     \u001b[0mplt\u001b[0m\u001b[1;33m.\u001b[0m\u001b[0mplot\u001b[0m\u001b[1;33m(\u001b[0m\u001b[0mXplot\u001b[0m\u001b[1;33m,\u001b[0m \u001b[0mYplot\u001b[0m\u001b[1;33m)\u001b[0m\u001b[1;31m# function\u001b[0m\u001b[1;33m\u001b[0m\u001b[0m\n\u001b[0;32m---> 25\u001b[0;31m     \u001b[0mplt\u001b[0m\u001b[1;33m.\u001b[0m\u001b[0mplot\u001b[0m\u001b[1;33m(\u001b[0m\u001b[0mmin_result\u001b[0m\u001b[1;33m.\u001b[0m\u001b[0mx\u001b[0m\u001b[1;33m,\u001b[0m\u001b[0mmin_result\u001b[0m\u001b[1;33m.\u001b[0m\u001b[0mfun\u001b[0m\u001b[1;33m,\u001b[0m\u001b[1;34m'ro'\u001b[0m\u001b[1;33m)\u001b[0m \u001b[1;31m# minimum\u001b[0m\u001b[1;33m\u001b[0m\u001b[0m\n\u001b[0m\u001b[1;32m     26\u001b[0m     \u001b[0mplt\u001b[0m\u001b[1;33m.\u001b[0m\u001b[0mshow\u001b[0m\u001b[1;33m(\u001b[0m\u001b[1;33m)\u001b[0m\u001b[1;33m\u001b[0m\u001b[0m\n\u001b[1;32m     27\u001b[0m \u001b[1;33m\u001b[0m\u001b[0m\n",
      "\u001b[0;31mNameError\u001b[0m: name 'min_result' is not defined"
     ]
    }
   ],
   "source": [
    "import pandas as pd\n",
    "import matplotlib.pyplot as plt\n",
    "import numpy as np\n",
    "import scipy.optimize as spo\n",
    "\n",
    "def f(X):\n",
    "    \"\"\"Given a acalar X, return some values(a real number)\"\"\"\n",
    "    Y = (X - 1.5)**2 + 0.5\n",
    "    print \"X = {}, Y = {}\".format(X,Y) # for trace\n",
    "    return Y\n",
    "\n",
    "def test_run():\n",
    "    Xguess = 2.0\n",
    "    min_result = spo.minimize(f, Xguess, method = 'SLSQP', options = {'disp': True})\n",
    "    print \"Minima found at:\"\n",
    "    print \"X = {}, Y = {}\".format(min_result.x,min_result.fun)\n",
    "    \n",
    "    \n",
    "    # Plot function\n",
    "    Xplot = np.linspace(0.5, 2.5, 21)\n",
    "    Yplot = f(Xplot)\n",
    "    plt.plot(Xplot, Yplot)# function\n",
    "    plt.plot(min_result.x,min_result.fun,'ro') # minimum\n",
    "    plt.show()\n",
    "    \n",
    "if __name__ == \"__main__\":\n",
    "    test_run()\n",
    "    \n",
    "    \n",
    "    \n",
    "    "
   ]
  },
  {
   "cell_type": "code",
   "execution_count": null,
   "metadata": {
    "collapsed": true
   },
   "outputs": [],
   "source": []
  }
 ],
 "metadata": {
  "kernelspec": {
   "display_name": "Python 2",
   "language": "python",
   "name": "python2"
  },
  "language_info": {
   "codemirror_mode": {
    "name": "ipython",
    "version": 2
   },
   "file_extension": ".py",
   "mimetype": "text/x-python",
   "name": "python",
   "nbconvert_exporter": "python",
   "pygments_lexer": "ipython2",
   "version": "2.7.13"
  }
 },
 "nbformat": 4,
 "nbformat_minor": 2
}
