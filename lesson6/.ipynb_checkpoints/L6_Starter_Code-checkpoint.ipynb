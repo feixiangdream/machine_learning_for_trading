{
 "cells": [
  {
   "cell_type": "code",
   "execution_count": 3,
   "metadata": {},
   "outputs": [
    {
     "ename": "IndentationError",
     "evalue": "expected an indented block (<ipython-input-3-d359791d3fe2>, line 27)",
     "output_type": "error",
     "traceback": [
      "\u001b[0;36m  File \u001b[0;32m\"<ipython-input-3-d359791d3fe2>\"\u001b[0;36m, line \u001b[0;32m27\u001b[0m\n\u001b[0;31m    for symbol in symbols:\u001b[0m\n\u001b[0m      ^\u001b[0m\n\u001b[0;31mIndentationError\u001b[0m\u001b[0;31m:\u001b[0m expected an indented block\n"
     ]
    }
   ],
   "source": [
    "\"\"\"Fill missing values\"\"\"\n",
    "\n",
    "import numpy as np\n",
    "import pandas as pd\n",
    "import matplotlib.pyplot as plt\n",
    "import os\n",
    "\n",
    "def fill_missing_values(df_data):\n",
    "    \"\"\"Fill missing values in data frame, in place.\"\"\"\n",
    "    ##########################################################\n",
    "    df_data.fillna(method = 'ffill',inplace=True)\n",
    "    df_data.fillna(method = 'bfill',inplace=True)\n",
    "    ##########################################################\n",
    "\n",
    "\n",
    "def symbol_to_path(symbol, base_dir=\"data\"):\n",
    "    \"\"\"Return CSV file path given ticker symbol.\"\"\"\n",
    "    return os.path.join(base_dir, \"{}.csv\".format(str(symbol)))\n",
    "\n",
    "\n",
    "def get_data(symbols, dates):\n",
    "    \"\"\"Read stock data (adjusted close) for given symbols from CSV files.\"\"\"\n",
    "    df_final = pd.DataFrame(index=dates)\n",
    "    if \"SPY\" not in symbols:  # add SPY for reference, if absent\n",
    "        #symbols.insert(0, \"SPY\")\n",
    "        pass\n",
    "\n",
    "    for symbol in symbols:\n",
    "        file_path = symbol_to_path(symbol)\n",
    "        df_temp = pd.read_csv(file_path, parse_dates=True, index_col=\"Date\",\n",
    "            usecols=[\"Date\", \"Adj Close\"], na_values=[\"nan\"])\n",
    "        df_temp = df_temp.rename(columns={\"Adj Close\": symbol})\n",
    "        df_final = df_final.join(df_temp)\n",
    "        if symbol == \"SPY\":  # drop dates SPY did not trade\n",
    "            df_final = df_final.dropna(subset=[\"SPY\"])\n",
    "\n",
    "    return df_final\n",
    "\n",
    "\n",
    "def plot_data(df_data):\n",
    "    \"\"\"Plot stock data with appropriate axis labels.\"\"\"\n",
    "    ax = df_data.plot(title=\"Stock Data\", fontsize=2)\n",
    "    ax.set_xlabel(\"Date\")\n",
    "    ax.set_ylabel(\"Price\")\n",
    "    plt.show()\n",
    "\n",
    "\n",
    "def test_run():\n",
    "    \"\"\"Function called by Test Run.\"\"\"\n",
    "    # Read data\n",
    "    symbol_list = [\"AAPL\", \"GLD\", \"GOOG\"]  # list of symbols\n",
    "    start_date = \"2015-12-31\"\n",
    "    end_date = \"2016-12-07\"\n",
    "    dates = pd.date_range(start_date, end_date)  # date range as index\n",
    "    df_data = get_data(symbol_list, dates)  # get data for each symbol\n",
    "\n",
    "    # Fill missing values\n",
    "    fill_missing_values(df_data)\n",
    "\n",
    "    # Plot\n",
    "    plot_data(df_data)\n",
    "\n",
    "\n",
    "if __name__ == \"__main__\":\n",
    "    test_run()\n"
   ]
  },
  {
   "cell_type": "code",
   "execution_count": null,
   "metadata": {
    "collapsed": true
   },
   "outputs": [],
   "source": []
  }
 ],
 "metadata": {
  "kernelspec": {
   "display_name": "Python 2",
   "language": "python",
   "name": "python2"
  },
  "language_info": {
   "codemirror_mode": {
    "name": "ipython",
    "version": 2
   },
   "file_extension": ".py",
   "mimetype": "text/x-python",
   "name": "python",
   "nbconvert_exporter": "python",
   "pygments_lexer": "ipython2",
   "version": "2.7.13"
  }
 },
 "nbformat": 4,
 "nbformat_minor": 2
}
